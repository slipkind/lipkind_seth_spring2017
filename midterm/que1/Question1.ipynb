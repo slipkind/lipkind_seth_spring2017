{
 "cells": [
  {
   "cell_type": "markdown",
   "metadata": {},
   "source": [
    "# Enron Analysis 1\n",
    "- Parse through each of the 4 key players and see how many emails they sent to people\n",
    "- Key players were gotten from http://www.nytimes.com/2006/01/29/business/businessspecial3/10-enron-players-where-they-landed-after-the-fall.html?module=ArrowsNav&contentCollection=undefined&action=keypress&region=FixedLeft&pgtype=article\n",
    "- I selected: Kenneth Lay, Jeffrey K. Skilling, Greg Whalley, and Vincent J. Kaminski\n",
    "- I searched through their sent folder and counted the number of times they sent an email to someone\n",
    "- For some strings, they emailed many people, so I had to split at the comma and remove any leading empty spaces\n",
    "- CONCLUSION:\n",
    "   - Vincent Kaminski was the most suspicious, as he sent over 1000 emails to his aol email address.  Definitely should look at those"
   ]
  },
  {
   "cell_type": "code",
   "execution_count": 3,
   "metadata": {
    "collapsed": false
   },
   "outputs": [],
   "source": [
    "from email.parser import Parser\n",
    "from glob import glob\n",
    "import os\n",
    "import email\n",
    "from os.path import expanduser\n",
    "import csv"
   ]
  },
  {
   "cell_type": "code",
   "execution_count": 4,
   "metadata": {
    "collapsed": false,
    "scrolled": false
   },
   "outputs": [],
   "source": [
    "home = expanduser(\"~\")\n",
    "filenames = glob(home + '/midterm/data/enron/maildir/lay-k/sent/*') # get Kenneth Lay email\n"
   ]
  },
  {
   "cell_type": "code",
   "execution_count": 20,
   "metadata": {
    "collapsed": false
   },
   "outputs": [],
   "source": [
    "def splitAndRemove(astring):\n",
    "    new_list = list()\n",
    "    if astring:\n",
    "        if \",\" in astring:\n",
    "            counter = astring.count(',')\n",
    "            i = 0\n",
    "            while (i < counter):\n",
    "                new_str = astring.split(' ')[0]\n",
    "                no_comma = new_str.replace(',', '')\n",
    "                new_list.append(no_comma)\n",
    "                astring.replace(new_str, '')\n",
    "                i += 1\n",
    "            for name in new_list:\n",
    "                if new_list[0] == ' ':\n",
    "                    new_list.remove(new_list[0])\n",
    "        else:\n",
    "            new_list.append(astring)\n",
    "    new_list = set(new_list)\n",
    "    return new_list"
   ]
  },
  {
   "cell_type": "code",
   "execution_count": 21,
   "metadata": {
    "collapsed": false,
    "scrolled": false
   },
   "outputs": [],
   "source": [
    "# information for kenneth lay\n",
    "k_lay_list = list()\n",
    "for file in filenames:\n",
    "    with open(file,'r') as file1:\n",
    "        var=file1.read()\n",
    "        emails = Parser().parsestr(var)\n",
    "        to_email = emails['to'].replace('\\n','')\n",
    "        to_email = to_email.replace('\\t','')\n",
    "        all_emails = splitAndRemove(to_email)\n",
    "        k_lay_list.extend(all_emails)\n",
    "k_lay_set = set(k_lay_list)\n",
    "\n",
    "email_count = dict()\n",
    "for the_email in k_lay_set:\n",
    "    email_count[the_email] = k_lay_list.count(the_email)\n",
    "    \n",
    "sorted_email_k_lay = sorted(email_count.items(), key=lambda pair: pair[1], reverse=True)"
   ]
  },
  {
   "cell_type": "code",
   "execution_count": 15,
   "metadata": {
    "collapsed": true
   },
   "outputs": [],
   "source": [
    "ana1enr = 'Ana1Enron'\n",
    "if not os.path.exists(ana1enr):\n",
    "    os.mkdir(ana1enr)"
   ]
  },
  {
   "cell_type": "code",
   "execution_count": 19,
   "metadata": {
    "collapsed": false
   },
   "outputs": [],
   "source": [
    "with open(ana1enr + '/emails_lay.csv', 'w', newline='', ) as csvfile: # open the csvfile as a writeable file\n",
    "    fieldname = ['email', 'frequency']\n",
    "    writer = csv.DictWriter(csvfile, fieldnames=fieldname) # uses dictWriter to make columns in the csv file\n",
    "\n",
    "    writer.writeheader()\n",
    "    for i in sorted_email_k_lay: # for to search through each dict pair in the list\n",
    "        writer.writerow({'email': i[0], 'frequency': i[1]})"
   ]
  },
  {
   "cell_type": "code",
   "execution_count": 27,
   "metadata": {
    "collapsed": true
   },
   "outputs": [],
   "source": [
    "filenames = glob(home + '/midterm/data/enron/maildir/skilling-j/sent/*') # get Kenneth Lay email\n",
    "\n",
    "# information for jeffrey skilling\n",
    "j_skilling_list = list()\n",
    "for file in filenames:\n",
    "    with open(file,'r') as file1:\n",
    "       var=file1.read()\n",
    "        emails = Parser().parsestr(var)\n",
    "        to_email = emails['to'].replace('\\n','')\n",
    "        to_email = to_email.replace('\\t','')\n",
    "        all_emails = splitAndRemove(to_email)\n",
    "        j_skilling_list.append(to_email)\n",
    "j_skilling_set = set(j_skilling_list)\n",
    "\n",
    "email_count = dict()\n",
    "for the_email in j_skilling_set:\n",
    "    email_count[the_email] = j_skilling_list.count(the_email)\n",
    "    \n",
    "sorted_email_j_skilling = sorted(email_count.items(), key=lambda pair: pair[1], reverse=True)"
   ]
  },
  {
   "cell_type": "code",
   "execution_count": 28,
   "metadata": {
    "collapsed": true
   },
   "outputs": [],
   "source": [
    "with open(ana1enr + '/emails_skilling.csv', 'w', newline='', ) as csvfile: # open the csvfile as a writeable file\n",
    "    fieldname = ['email', 'frequency']\n",
    "    writer = csv.DictWriter(csvfile, fieldnames=fieldname) # uses dictWriter to make columns in the csv file\n",
    "\n",
    "    writer.writeheader()\n",
    "    for i in sorted_email_j_skilling: # for to search through each dict pair in the list\n",
    "        writer.writerow({'email': i[0], 'frequency': i[1]})"
   ]
  },
  {
   "cell_type": "code",
   "execution_count": 30,
   "metadata": {
    "collapsed": false
   },
   "outputs": [],
   "source": [
    "filenames = glob(home + '/midterm/data/enron/maildir/whalley-g/sent/*') # get Kenneth Lay email\n",
    "\n",
    "# information for andrew fastow\n",
    "g_whalley_list = list()\n",
    "for file in filenames:\n",
    "    with open(file,'r') as file1:\n",
    "        var=file1.read()\n",
    "        emails = Parser().parsestr(var)\n",
    "        to_email = emails['to'].replace('\\n','')\n",
    "        to_email = to_email.replace('\\t','')\n",
    "        all_emails = splitAndRemove(to_email)\n",
    "        g_whalley_list.append(to_email)\n",
    "g_whalley_set = set(g_whalley_list)\n",
    "\n",
    "email_count = dict()\n",
    "for the_email in g_whalley_set:\n",
    "    email_count[the_email] = g_whalley_list.count(the_email)\n",
    "    \n",
    "sorted_email_g_whalley = sorted(email_count.items(), key=lambda pair: pair[1], reverse=True)"
   ]
  },
  {
   "cell_type": "code",
   "execution_count": 31,
   "metadata": {
    "collapsed": false
   },
   "outputs": [],
   "source": [
    "with open(ana1enr + '/emails_whalley.csv', 'w', newline='', ) as csvfile: # open the csvfile as a writeable file\n",
    "    fieldname = ['email', 'frequency']\n",
    "    writer = csv.DictWriter(csvfile, fieldnames=fieldname) # uses dictWriter to make columns in the csv file\n",
    "\n",
    "    writer.writeheader()\n",
    "    for i in sorted_email_g_whalley: # for to search through each dict pair in the list\n",
    "        writer.writerow({'email': i[0], 'frequency': i[1]})"
   ]
  },
  {
   "cell_type": "code",
   "execution_count": 36,
   "metadata": {
    "collapsed": false
   },
   "outputs": [],
   "source": [
    "filenames = glob(home + '/midterm/data/enron/maildir/kaminski-v/sent/*') # get Kenneth Lay email\n",
    "\n",
    "# information for andrew fastow\n",
    "v_kaminski_list = list()\n",
    "for file in filenames:\n",
    "    with open(file,'r') as file1:\n",
    "        var=file1.read()\n",
    "        emails = Parser().parsestr(var)\n",
    "        if emails['to']:\n",
    "            to_email = emails['to'].replace('\\n','')\n",
    "            to_email = to_email.replace('\\t','')\n",
    "            all_emails = splitAndRemove(to_email)\n",
    "            v_kaminski_list.append(to_email)\n",
    "v_kaminski_set = set(v_kaminski_list)\n",
    "\n",
    "email_count = dict()\n",
    "for the_email in v_kaminski_set:\n",
    "    email_count[the_email] = v_kaminski_list.count(the_email)\n",
    "    \n",
    "sorted_email_v_kaminski = sorted(email_count.items(), key=lambda pair: pair[1], reverse=True)"
   ]
  },
  {
   "cell_type": "code",
   "execution_count": 38,
   "metadata": {
    "collapsed": false
   },
   "outputs": [],
   "source": [
    "with open(ana1enr + '/emails_kaminski.csv', 'w', newline='', ) as csvfile: # open the csvfile as a writeable file\n",
    "    fieldname = ['email', 'frequency']\n",
    "    writer = csv.DictWriter(csvfile, fieldnames=fieldname) # uses dictWriter to make columns in the csv file\n",
    "\n",
    "    writer.writeheader()\n",
    "    for i in sorted_email_v_kaminski: # for to search through each dict pair in the list\n",
    "        writer.writerow({'email': i[0], 'frequency': i[1]})\n"
   ]
  },
  {
   "cell_type": "markdown",
   "metadata": {},
   "source": [
    "# Enron Analysis 2\n",
    "- Parse through each of the Kaminski emails he sent, and find how many attachments were sent\n",
    "- The emails with the most attachments should be inspected\n",
    "- CONCLUSION:\n",
    "    - Emails 2272 and 1190 should be inspected since they each have at least 26 mentions of a .doc file"
   ]
  },
  {
   "cell_type": "code",
   "execution_count": 51,
   "metadata": {
    "collapsed": false
   },
   "outputs": [],
   "source": [
    "filenames = glob(home + '/midterm/data/enron/maildir/kaminski-v/sent/*') # get Kenneth Lay email\n",
    "\n",
    "# information for andrew fastow\n",
    "v_kaminski_dict = dict()\n",
    "for file in filenames:\n",
    "    with open(file,'r', encoding='utf-8') as file1:\n",
    "        var=file1.read()\n",
    "        counting = var.count('.doc')\n",
    "        v_kaminski_dict[file] = counting\n",
    "\n",
    "sorted_v_kaminski = sorted(v_kaminski_dict.items(), key=lambda pair: pair[1], reverse=True)\n"
   ]
  },
  {
   "cell_type": "code",
   "execution_count": 53,
   "metadata": {
    "collapsed": true
   },
   "outputs": [],
   "source": [
    "ana2enr = 'Ana2Enron'\n",
    "if not os.path.exists(ana2enr):\n",
    "    os.mkdir(ana2enr)\n",
    "    \n",
    "with open(ana2enr + '/email_attachments_kaminski.csv', 'w', newline='', ) as csvfile: # open the csvfile as a writeable file\n",
    "    fieldname = ['email', 'frequency']\n",
    "    writer = csv.DictWriter(csvfile, fieldnames=fieldname) # uses dictWriter to make columns in the csv file\n",
    "\n",
    "    writer.writeheader()\n",
    "    for i in sorted_v_kaminski: # for to search through each dict pair in the list\n",
    "        writer.writerow({'email': i[0], 'frequency': i[1]})\n"
   ]
  },
  {
   "cell_type": "markdown",
   "metadata": {},
   "source": [
    "# Enron Analysis 3\n",
    "- Parse through each of the Kaminski sent, and find which day had the most emails\n",
    "- The day with the most emails should be investigated\n",
    "- CONCLUSION:\n",
    "    - The day that should be investigated is: 1/11/2000"
   ]
  },
  {
   "cell_type": "code",
   "execution_count": 83,
   "metadata": {
    "collapsed": true
   },
   "outputs": [],
   "source": [
    "from datetime import datetime, timedelta\n",
    "from email.utils import parsedate_tz, mktime_tz, formatdate"
   ]
  },
  {
   "cell_type": "code",
   "execution_count": 93,
   "metadata": {
    "collapsed": false
   },
   "outputs": [],
   "source": [
    "filenames = glob(home + '/midterm/data/enron/maildir/kaminski-v/sent/*') # get Kenneth Lay email\n",
    "\n",
    "# information for andrew fastow\n",
    "time_list = list()\n",
    "for file in filenames:\n",
    "    with open(file,'r', encoding='utf-8') as file1:\n",
    "        var=file1.read()\n",
    "        emails = Parser().parsestr(var)\n",
    "        #result = var.rpartition('\\n')[0]\n",
    "    timestamp = formatdate(mktime_tz(parsedate_tz(emails['Date'])))\n",
    "    time_list.append(timestamp[5:17])\n",
    "time_set = set(time_list)\n",
    "\n",
    "day_count = dict()\n",
    "for day in time_set:\n",
    "    day_count[day] = time_list.count(day)\n",
    "sorted_count = sorted(day_count.items(), key=lambda pair: pair[1], reverse=True)"
   ]
  },
  {
   "cell_type": "code",
   "execution_count": 95,
   "metadata": {
    "collapsed": false
   },
   "outputs": [],
   "source": [
    "ana3enr = 'Ana3Enron'\n",
    "if not os.path.exists(ana3enr):\n",
    "    os.mkdir(ana3enr)\n",
    "with open(ana3enr + '/sorted_date_counts.csv', 'w', newline='', ) as csvfile: # open the csvfile as a writeable file\n",
    "    fieldname = ['day', 'frequency']\n",
    "    writer = csv.DictWriter(csvfile, fieldnames=fieldname) # uses dictWriter to make columns in the csv file\n",
    "\n",
    "    writer.writeheader()\n",
    "    for i in sorted_count: # for to search through each dict pair in the list\n",
    "        writer.writerow({'day': i[0], 'frequency': i[1]})"
   ]
  }
 ],
 "metadata": {
  "anaconda-cloud": {},
  "kernelspec": {
   "display_name": "Python [conda root]",
   "language": "python",
   "name": "conda-root-py"
  },
  "language_info": {
   "codemirror_mode": {
    "name": "ipython",
    "version": 3
   },
   "file_extension": ".py",
   "mimetype": "text/x-python",
   "name": "python",
   "nbconvert_exporter": "python",
   "pygments_lexer": "ipython3",
   "version": "3.5.2"
  }
 },
 "nbformat": 4,
 "nbformat_minor": 1
}

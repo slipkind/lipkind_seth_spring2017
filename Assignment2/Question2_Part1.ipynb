{
 "cells": [
  {
   "cell_type": "markdown",
   "metadata": {},
   "source": [
    "# Question 2 Part 1\n",
    "- Read all the json files in the folder called Data.\n",
    "    - There are three categories of json files in this folder. They are identified by the key\n",
    "      called “term” in each of the json file.\n",
    "    - Create a folder structure to read all these json files and store them into these separate\n",
    "      folders. You are expected to create a hierarchy of folder structure.\n",
    "    - Example:\n",
    "        You can place all restaurants json files in a particular country (say Australia) in the\n",
    "        same folder. How you group the json files and create a folder structure is your choice.\n",
    "        Your task is to identify criteria by which you can group all these json files and store\n",
    "        them.\n",
    "    - (You could use these keys to create hierarchy and store json files: Country, city,\n",
    "      categories)"
   ]
  },
  {
   "cell_type": "code",
   "execution_count": 6,
   "metadata": {
    "collapsed": true
   },
   "outputs": [],
   "source": [
    "from glob import glob # import the glob module from glob\n",
    "import json\n",
    "import os"
   ]
  },
  {
   "cell_type": "code",
   "execution_count": 87,
   "metadata": {
    "collapsed": false
   },
   "outputs": [],
   "source": [
    "def readJsonFiles(filepath):\n",
    "    \"\"\" Reads all json files in the filepath, and preprocesses the data.\n",
    "    Input: filepath (str): The filepath where all files are located\n",
    "    Output: all_words (dict): The dictionary of words in all files plus the count\n",
    "    \"\"\"\n",
    "    my_list = list()\n",
    "    all_hotels = dict() # dict of json hotels\n",
    "    all_attractions = dict() # dict of json attractions\n",
    "    all_restaurants = dict() # dict of json restaurants\n",
    "    all_cities = list()\n",
    "    all_countries = list()\n",
    "    loca_dict = dict()\n",
    "    all_files = glob(filepath) # glob to list all files in the given path\n",
    "    for filename in all_files:\n",
    "        file = json.loads(open(filename).read())\n",
    "        if (file['term'] == 'hotels'): # store in hotel dict if hotel\n",
    "            all_hotels[file['id']] = file\n",
    "        elif (file['term'] == 'attractions'): # store in at attraction dict if attraction\n",
    "            all_attractions[file['id']] = file\n",
    "        elif (file['term'] == 'restaurants'): # store in restaraunt dict if restaurant\n",
    "            all_restaurants[file['id']] = file\n",
    "        country = file['location']['country']\n",
    "        if (country not in list(loca_dict.keys())):\n",
    "            loca_dict[country] = list()\n",
    "            loca_dict[country].append({file['location']['state']: file['location']['city']})\n",
    "        else:\n",
    "            loca_dict[country].append({file['location']['state']: file['location']['city']})\n",
    "    my_list.append(all_hotels)\n",
    "    my_list.append(all_attractions)\n",
    "    my_list.append(all_restaurants)\n",
    "    \n",
    "    #for key in loca_dict:\n",
    "        #loca_dict[key] = set(loca_dict[key])\n",
    "    \n",
    "    return (my_list), loca_dict"
   ]
  },
  {
   "cell_type": "code",
   "execution_count": 88,
   "metadata": {
    "collapsed": false
   },
   "outputs": [],
   "source": [
    "parsed, countries = readJsonFiles('c:/Users/Seth/INFO_7374/Test_DataAnalysis4Python_Spring17/Assignment_2/Data/*.json')\n"
   ]
  },
  {
   "cell_type": "code",
   "execution_count": 131,
   "metadata": {
    "collapsed": true
   },
   "outputs": [],
   "source": [
    "term_list = ['hotels', 'attractions','restaurants']"
   ]
  },
  {
   "cell_type": "code",
   "execution_count": 33,
   "metadata": {
    "collapsed": true
   },
   "outputs": [],
   "source": [
    "dir_path = 'c:/Users/Seth/INFO_7374/Test_DataAnalysis4Python_Spring17/Assignment2/DataProcessed'"
   ]
  },
  {
   "cell_type": "code",
   "execution_count": 22,
   "metadata": {
    "collapsed": true
   },
   "outputs": [],
   "source": [
    "def ensure_dir(file_path):\n",
    "    if not os.path.exists(file_path): # check if directory exists\n",
    "        os.makedirs(file_path)"
   ]
  },
  {
   "cell_type": "code",
   "execution_count": 132,
   "metadata": {
    "collapsed": false
   },
   "outputs": [],
   "source": [
    "for country in countries: # loop through countries\n",
    "    for states in countries[country]: # loop through states\n",
    "        for state in states: # loop through cities\n",
    "            states[state] = states[state].replace(' ', '') # remove spaces in names\n",
    "            for term in term_list: # for each term\n",
    "                ensure_dir(dir_path + '/' + country + '/' + state + '/' + states[state] + '/' + term) # create folder for each country, state, and city\n",
    "            "
   ]
  },
  {
   "cell_type": "code",
   "execution_count": 134,
   "metadata": {
    "collapsed": false
   },
   "outputs": [],
   "source": [
    "counter = 0 # counter to go through lists\n",
    "for i in parsed:  # to get each list in parsed\n",
    "    for key in parsed[counter]: # to get each file in parsed\n",
    "        with open(dir_path + '/' + parsed[counter][key]['location']['country'] + '/' + parsed[counter][key]['location']['state'] + '/' + parsed[counter][key]['location']['city'].replace(' ', '') + '/' + parsed[counter][key]['term'] + '/' + key + '.json', 'w') as f:\n",
    "            json.dump(parsed[counter][key], f) # ensure_ascii=False\n",
    "    counter += 1"
   ]
  }
 ],
 "metadata": {
  "anaconda-cloud": {},
  "kernelspec": {
   "display_name": "Python [conda root]",
   "language": "python",
   "name": "conda-root-py"
  },
  "language_info": {
   "codemirror_mode": {
    "name": "ipython",
    "version": 3
   },
   "file_extension": ".py",
   "mimetype": "text/x-python",
   "name": "python",
   "nbconvert_exporter": "python",
   "pygments_lexer": "ipython3",
   "version": "3.5.2"
  }
 },
 "nbformat": 4,
 "nbformat_minor": 1
}

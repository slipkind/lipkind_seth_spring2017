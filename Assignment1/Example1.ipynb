{
 "cells": [
  {
   "cell_type": "markdown",
   "metadata": {
    "collapsed": true
   },
   "source": [
    "# Example 1\n",
    "- List all presidents' name in order\n",
    "- Find the total number of US presidents"
   ]
  },
  {
   "cell_type": "code",
   "execution_count": 2,
   "metadata": {
    "collapsed": true
   },
   "outputs": [],
   "source": [
    "from nltk.corpus import inaugural # import the inaugural data"
   ]
  },
  {
   "cell_type": "code",
   "execution_count": 3,
   "metadata": {
    "collapsed": false
   },
   "outputs": [],
   "source": [
    "all_presidential = inaugural.fileids() # get all file name and put in a list\n",
    "presidential_list = [] # declare an empty list\n",
    "sorted_presidential_list = []"
   ]
  },
  {
   "cell_type": "code",
   "execution_count": 6,
   "metadata": {
    "collapsed": false
   },
   "outputs": [],
   "source": [
    "for name in all_presidential: # loop all file names\n",
    "    new_name = name[5:-4] # parse presidents' name from file name\n",
    "    presidential_list.append(new_name) # add them to the list\n",
    "    "
   ]
  },
  {
   "cell_type": "code",
   "execution_count": 7,
   "metadata": {
    "collapsed": false
   },
   "outputs": [
    {
     "name": "stdout",
     "output_type": "stream",
     "text": [
      "{'Wilson', 'Coolidge', 'Cleveland', 'Washington', 'Harrison', 'McKinley', 'Eisenhower', 'Taylor', 'Garfield', 'Johnson', 'Clinton', 'Taft', 'Roosevelt', 'Hayes', 'Monroe', 'Grant', 'Adams', 'Harding', 'Reagan', 'Nixon', 'Polk', 'Hoover', 'Bush', 'VanBuren', 'Kennedy', 'Pierce', 'Madison', 'Jefferson', 'Obama', 'Jackson', 'Carter', 'Truman', 'Lincoln', 'Buchanan'}\n"
     ]
    },
    {
     "data": {
      "text/plain": [
       "set"
      ]
     },
     "execution_count": 7,
     "metadata": {},
     "output_type": "execute_result"
    }
   ],
   "source": [
    "presidential_list = set(presidential_list)\n",
    "print(presidential_list)\n",
    "type(presidential_list)"
   ]
  },
  {
   "cell_type": "code",
   "execution_count": 9,
   "metadata": {
    "collapsed": false
   },
   "outputs": [
    {
     "name": "stdout",
     "output_type": "stream",
     "text": [
      "['Adams', 'Buchanan', 'Bush', 'Carter', 'Cleveland', 'Clinton', 'Coolidge', 'Eisenhower', 'Garfield', 'Grant', 'Harding', 'Harrison', 'Hayes', 'Hoover', 'Jackson', 'Jefferson', 'Johnson', 'Kennedy', 'Lincoln', 'Madison', 'McKinley', 'Monroe', 'Nixon', 'Obama', 'Pierce', 'Polk', 'Reagan', 'Roosevelt', 'Taft', 'Taylor', 'Truman', 'VanBuren', 'Washington', 'Wilson']\n"
     ]
    }
   ],
   "source": [
    "sorted_presidential_list = sorted(presidential_list)\n",
    "\n",
    "print(sorted_presidential_list)\n"
   ]
  },
  {
   "cell_type": "code",
   "execution_count": 11,
   "metadata": {
    "collapsed": false
   },
   "outputs": [
    {
     "name": "stdout",
     "output_type": "stream",
     "text": [
      "Number of Presidents: 35\n"
     ]
    }
   ],
   "source": [
    "print (\"Number of Presidents:\", len(presidential_list) + 1)"
   ]
  }
 ],
 "metadata": {
  "anaconda-cloud": {},
  "kernelspec": {
   "display_name": "Python [conda root]",
   "language": "python",
   "name": "conda-root-py"
  },
  "language_info": {
   "codemirror_mode": {
    "name": "ipython",
    "version": 3
   },
   "file_extension": ".py",
   "mimetype": "text/x-python",
   "name": "python",
   "nbconvert_exporter": "python",
   "pygments_lexer": "ipython3",
   "version": "3.5.2"
  }
 },
 "nbformat": 4,
 "nbformat_minor": 1
}

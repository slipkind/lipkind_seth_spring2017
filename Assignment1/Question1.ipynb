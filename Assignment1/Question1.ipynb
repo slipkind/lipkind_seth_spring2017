{
 "cells": [
  {
   "cell_type": "markdown",
   "metadata": {},
   "source": [
    "# Question 1\n",
    "- Under package Gutenberg, see what files are in it\n",
    "- Find out how many unique words in file 'austen-persuasion.txt'\n",
    "- Calculate the frequency for each word and show the top 10 most frequent words and their frequency"
   ]
  },
  {
   "cell_type": "code",
   "execution_count": 21,
   "metadata": {
    "collapsed": false
   },
   "outputs": [],
   "source": [
    "import nltk # import the nltk library\n",
    "import operator # import for sorting dictionary"
   ]
  },
  {
   "cell_type": "code",
   "execution_count": 22,
   "metadata": {
    "collapsed": false
   },
   "outputs": [
    {
     "data": {
      "text/plain": [
       "98171"
      ]
     },
     "execution_count": 22,
     "metadata": {},
     "output_type": "execute_result"
    }
   ],
   "source": [
    "words_txt = nltk.corpus.gutenberg.words('austen-persuasion.txt') # import the words from austen-persuasion.txt\n",
    "\n",
    "len(words_txt) # print word count"
   ]
  },
  {
   "cell_type": "code",
   "execution_count": 23,
   "metadata": {
    "collapsed": false
   },
   "outputs": [
    {
     "data": {
      "text/plain": [
       "6132"
      ]
     },
     "execution_count": 23,
     "metadata": {},
     "output_type": "execute_result"
    }
   ],
   "source": [
    "words_set = set(words_txt) # transfer from list to set to get only unique words\n",
    "\n",
    "len(words_set)"
   ]
  },
  {
   "cell_type": "code",
   "execution_count": 27,
   "metadata": {
    "collapsed": false
   },
   "outputs": [
    {
     "name": "stdout",
     "output_type": "stream",
     "text": [
      "[{'name': 'supported', 'count': 3}, {'name': 'repulsively', 'count': 1}, {'name': 'lifting', 'count': 1}, {'name': 'must', 'count': 228}, {'name': 'wearing', 'count': 3}, {'name': 'resemble', 'count': 1}, {'name': 'hesitation', 'count': 2}, {'name': 'reverie', 'count': 1}, {'name': 'standard', 'count': 2}, {'name': 'readers', 'count': 1}]\n"
     ]
    }
   ],
   "source": [
    "word_list = [] # create new dict\n",
    "\n",
    "for word in words_set: # traverse all words in word list\n",
    "    word_count = words_txt.count(word)\n",
    "    add_dict = dict(name=word,count=word_count)\n",
    "    word_list.append(add_dict)\n",
    "\n",
    "newlist = sorted(word_list, key=itemgetter('count'), reverse=True)\n",
    "\n",
    "print\n",
    "#sorted_x = sorted(word_dict.items(), key=operator.itemgetter(0))\n",
    "#sorted_x.reverse()\n",
    "#print (sorted_x[:10])\n",
    "#word_count = words_txt.count(next(iter(words_set)))\n",
    "#print(word_count)\n"
   ]
  },
  {
   "cell_type": "code",
   "execution_count": 26,
   "metadata": {
    "collapsed": false
   },
   "outputs": [
    {
     "name": "stdout",
     "output_type": "stream",
     "text": [
      "['[', 'Persuasion', 'by', 'Jane', 'Austen', '1818', ...]\n"
     ]
    }
   ],
   "source": [
    "print(words_txt)"
   ]
  }
 ],
 "metadata": {
  "kernelspec": {
   "display_name": "Python 3",
   "language": "python",
   "name": "python3"
  },
  "language_info": {
   "codemirror_mode": {
    "name": "ipython",
    "version": 3
   },
   "file_extension": ".py",
   "mimetype": "text/x-python",
   "name": "python",
   "nbconvert_exporter": "python",
   "pygments_lexer": "ipython3",
   "version": "3.6.0"
  }
 },
 "nbformat": 4,
 "nbformat_minor": 2
}

{
 "cells": [
  {
   "cell_type": "markdown",
   "metadata": {},
   "source": [
    "# Question 1\n",
    "- Under package Gutenberg, see what files are in it\n",
    "- Find out how many unique words in file 'austen-persuasion.txt'\n",
    "- Calculate the frequency for each word and show the top 10 most frequent words and their frequency"
   ]
  },
  {
   "cell_type": "code",
   "execution_count": 21,
   "metadata": {
    "collapsed": false
   },
   "outputs": [],
   "source": [
    "import nltk # import the nltk library\n",
    "import operator # import for sorting dictionary"
   ]
  },
  {
   "cell_type": "code",
   "execution_count": 22,
   "metadata": {
    "collapsed": false
   },
   "outputs": [
    {
     "data": {
      "text/plain": [
       "98171"
      ]
     },
     "execution_count": 22,
     "metadata": {},
     "output_type": "execute_result"
    }
   ],
   "source": [
    "words_txt = nltk.corpus.gutenberg.words('austen-persuasion.txt') # import the words from austen-persuasion.txt\n",
    "\n",
    "len(words_txt) # print word count"
   ]
  },
  {
   "cell_type": "code",
   "execution_count": 23,
   "metadata": {
    "collapsed": false
   },
   "outputs": [
    {
     "data": {
      "text/plain": [
       "6132"
      ]
     },
     "execution_count": 23,
     "metadata": {},
     "output_type": "execute_result"
    }
   ],
   "source": [
    "words_set = set(words_txt) # transfer from list to set to get only unique words\n",
    "\n",
    "len(words_set)"
   ]
  },
  {
   "cell_type": "code",
   "execution_count": 29,
   "metadata": {
    "collapsed": false
   },
   "outputs": [
    {
     "name": "stdout",
     "output_type": "stream",
     "text": [
      "[{'name': ',', 'count': 6750}, {'name': 'the', 'count': 3120}, {'name': 'to', 'count': 2775}, {'name': '.', 'count': 2741}, {'name': 'and', 'count': 2739}, {'name': 'of', 'count': 2564}, {'name': 'a', 'count': 1529}, {'name': 'in', 'count': 1346}, {'name': 'was', 'count': 1330}, {'name': ';', 'count': 1290}]\n"
     ]
    }
   ],
   "source": [
    "word_list = [] # create new list\n",
    "\n",
    "for word in words_set: # traverse all words in word set (since this is unique words)\n",
    "    word_count = words_txt.count(word) # count the words in the list\n",
    "    add_dict = dict(name=word,count=word_count) # add to a dict to associate count with word\n",
    "    word_list.append(add_dict) # add to the list\n",
    "\n",
    "newlist = sorted(word_list, key=operator.itemgetter('count'), reverse=True)\n",
    "\n",
    "print(newlist[:10])\n",
    "\n"
   ]
  }
 ],
 "metadata": {
  "kernelspec": {
   "display_name": "Python 3",
   "language": "python",
   "name": "python3"
  },
  "language_info": {
   "codemirror_mode": {
    "name": "ipython",
    "version": 3
   },
   "file_extension": ".py",
   "mimetype": "text/x-python",
   "name": "python",
   "nbconvert_exporter": "python",
   "pygments_lexer": "ipython3",
   "version": "3.6.0"
  }
 },
 "nbformat": 4,
 "nbformat_minor": 2
}

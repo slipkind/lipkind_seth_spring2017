{
 "cells": [
  {
   "cell_type": "markdown",
   "metadata": {},
   "source": [
    "# Question 4\n",
    "- Under package bps_chat, see what files are in it\n",
    "- Find 'user121' and see how many posts he posted in all\n",
    "- Find out how many unique user in each age range group (20,30's)"
   ]
  },
  {
   "cell_type": "code",
   "execution_count": 7,
   "metadata": {
    "collapsed": true
   },
   "outputs": [],
   "source": [
    "from nltk.corpus import nps_chat # import nps_chat module"
   ]
  },
  {
   "cell_type": "code",
   "execution_count": 36,
   "metadata": {
    "collapsed": false
   },
   "outputs": [
    {
     "name": "stdout",
     "output_type": "stream",
     "text": [
      "File: 10-19-20s_706posts.xml, User121 Posts: 70\n",
      "File: 10-19-30s_705posts.xml, User121 Posts: 0\n",
      "File: 10-19-40s_686posts.xml, User121 Posts: 0\n",
      "File: 10-19-adults_706posts.xml, User121 Posts: 0\n",
      "File: 10-24-40s_706posts.xml, User121 Posts: 0\n",
      "File: 10-26-teens_706posts.xml, User121 Posts: 4\n",
      "File: 11-06-adults_706posts.xml, User121 Posts: 1\n",
      "File: 11-08-20s_705posts.xml, User121 Posts: 28\n",
      "File: 11-08-40s_706posts.xml, User121 Posts: 0\n",
      "File: 11-08-adults_705posts.xml, User121 Posts: 2\n",
      "File: 11-08-teens_706posts.xml, User121 Posts: 3\n",
      "File: 11-09-20s_706posts.xml, User121 Posts: 6\n",
      "File: 11-09-40s_706posts.xml, User121 Posts: 0\n",
      "File: 11-09-adults_706posts.xml, User121 Posts: 0\n",
      "File: 11-09-teens_706posts.xml, User121 Posts: 18\n",
      "User121 posted a total of: 132\n"
     ]
    }
   ],
   "source": [
    "files = nps_chat.fileids() # find all files in nps_chat module\n",
    "line_counter = 0\n",
    "summed_count = 0\n",
    "for file in files:\n",
    "    raw_text = nps_chat.raw(file)\n",
    "    split_text = raw_text.split('user=')\n",
    "    for line in split_text:\n",
    "        if \"User121\" in line[0:25]:\n",
    "            line_counter = line_counter + 1\n",
    "    print (\"File: \" + file + \", User121 Posts: \" + str(line_counter))\n",
    "    summed_count = summed_count + line_counter\n",
    "    line_counter = 0\n",
    "        \n",
    "print(\"User121 posted a total of: \" + str(summed_count))"
   ]
  },
  {
   "cell_type": "code",
   "execution_count": 46,
   "metadata": {
    "collapsed": false
   },
   "outputs": [
    {
     "name": "stdout",
     "output_type": "stream",
     "text": [
      "['10-19-20s', '706posts.xml']\n",
      "['10', '19', '20s']\n",
      "['10-19-30s', '705posts.xml']\n",
      "['10', '19', '30s']\n",
      "['10-19-40s', '686posts.xml']\n",
      "['10', '19', '40s']\n",
      "['10-19-adults', '706posts.xml']\n",
      "['10', '19', 'adults']\n",
      "['10-24-40s', '706posts.xml']\n",
      "['10', '24', '40s']\n",
      "['10-26-teens', '706posts.xml']\n",
      "['10', '26', 'teens']\n",
      "['11-06-adults', '706posts.xml']\n",
      "['11', '06', 'adults']\n",
      "['11-08-20s', '705posts.xml']\n",
      "['11', '08', '20s']\n",
      "['11-08-40s', '706posts.xml']\n",
      "['11', '08', '40s']\n",
      "['11-08-adults', '705posts.xml']\n",
      "['11', '08', 'adults']\n",
      "['11-08-teens', '706posts.xml']\n",
      "['11', '08', 'teens']\n",
      "['11-09-20s', '706posts.xml']\n",
      "['11', '09', '20s']\n",
      "['11-09-40s', '706posts.xml']\n",
      "['11', '09', '40s']\n",
      "['11-09-adults', '706posts.xml']\n",
      "['11', '09', 'adults']\n",
      "['11-09-teens', '706posts.xml']\n",
      "['11', '09', 'teens']\n",
      "{'teens', '30s', '20s', '40s', 'adults'}\n"
     ]
    }
   ],
   "source": [
    "age_list = []\n",
    "for file in files:\n",
    "    split_text = file.split('_')\n",
    "    raw_text = nps_chat.raw(file)\n",
    "    print(split_text)\n",
    "    second_split = split_text[0].split(\"-\")\n",
    "    print(second_split)\n",
    "    age_list.append(second_split[2])\n",
    "age_set = set(age_list)\n",
    "print(age_set)"
   ]
  },
  {
   "cell_type": "code",
   "execution_count": 87,
   "metadata": {
    "collapsed": false
   },
   "outputs": [
    {
     "name": "stdout",
     "output_type": "stream",
     "text": [
      "All users in age range teens 136\n",
      "All users in age range teens 139\n",
      "All users in age range teens 168\n",
      "All users in age range 30s 44\n",
      "All users in age range 20s 100\n",
      "All users in age range 20s 79\n",
      "All users in age range 20s 126\n",
      "All users in age range 40s 55\n",
      "All users in age range 40s 50\n",
      "All users in age range 40s 73\n",
      "All users in age range 40s 50\n",
      "All users in age range adults 50\n",
      "All users in age range adults 94\n",
      "All users in age range adults 114\n",
      "All users in age range adults 99\n"
     ]
    }
   ],
   "source": [
    "age_list = []\n",
    "for age in age_set:\n",
    "    for file in files:\n",
    "        if age in file:\n",
    "            raw_text = nps_chat.raw(file)\n",
    "            split_text = raw_text.split('user=\"')\n",
    "            for string in split_text:\n",
    "                if 'User' in string:\n",
    "                    split_list = string.split(age) # seperate out the age from the string\n",
    "\n",
    "                    userList = split_list[1].split('\"') # Seperate out the UserId from the string\n",
    "                    myUser = userList[0]\n",
    "                    all_users.append(myUser)\n",
    "            all_users_set = set(all_users) # remove all duplicates by making a set\n",
    "            all_users.clear() # clear the all_users list so the list can be reused\n",
    "            add_dict = dict(age=age, count=len(all_users_set))\n",
    "            age_list.append (add_dict)\n",
    "            print (\"All users in age range \" + age + \" \" + str(len(all_users_set)))\n",
    "                    \n",
    "#print (post_lists)"
   ]
  },
  {
   "cell_type": "code",
   "execution_count": 97,
   "metadata": {
    "collapsed": false
   },
   "outputs": [
    {
     "name": "stdout",
     "output_type": "stream",
     "text": [
      "Unique users in teens: 443\n",
      "Unique users in 20s: 305\n",
      "Unique users in 30s: 44\n",
      "Unique users in 40s: 228\n",
      "Unique users in adults: 357\n"
     ]
    }
   ],
   "source": [
    "count_teens = 0\n",
    "count_20s = 0\n",
    "count_30s = 0\n",
    "count_40s = 0\n",
    "count_adults = 0\n",
    "for element in age_list:\n",
    "    if 'teens' == element['age']:\n",
    "        count_teens += element['count']\n",
    "    elif '20s' in element['age']:\n",
    "        count_20s += element['count']\n",
    "    elif '30s' in element['age']:\n",
    "        count_30s += element['count']\n",
    "    elif '40s' in element['age']:\n",
    "        count_40s += element['count']\n",
    "    elif 'adults' in element['age']:\n",
    "        count_adults += element['count']\n",
    "print (\"Unique users in teens: \" + str(count_teens))\n",
    "print (\"Unique users in 20s: \" + str(count_20s))\n",
    "print (\"Unique users in 30s: \" + str(count_30s))\n",
    "print (\"Unique users in 40s: \" + str(count_40s))\n",
    "print (\"Unique users in adults: \" + str(count_adults))"
   ]
  },
  {
   "cell_type": "code",
   "execution_count": null,
   "metadata": {
    "collapsed": true
   },
   "outputs": [],
   "source": []
  }
 ],
 "metadata": {
  "anaconda-cloud": {},
  "kernelspec": {
   "display_name": "Python [conda root]",
   "language": "python",
   "name": "conda-root-py"
  },
  "language_info": {
   "codemirror_mode": {
    "name": "ipython",
    "version": 3
   },
   "file_extension": ".py",
   "mimetype": "text/x-python",
   "name": "python",
   "nbconvert_exporter": "python",
   "pygments_lexer": "ipython3",
   "version": "3.5.2"
  }
 },
 "nbformat": 4,
 "nbformat_minor": 1
}
